{
 "cells": [
  {
   "cell_type": "code",
   "execution_count": 2,
   "metadata": {},
   "outputs": [
    {
     "data": {
      "text/html": [
       "<script type=\"text/javascript\">window.PlotlyConfig = {MathJaxConfig: 'local'};</script><script type=\"text/javascript\">if (window.MathJax) {MathJax.Hub.Config({SVG: {font: \"STIX-Web\"}});}</script><script>requirejs.config({paths: { 'plotly': ['https://cdn.plot.ly/plotly-latest.min']},});if(!window._Plotly) {require(['plotly'],function(plotly) {window._Plotly=plotly;});}</script>"
      ],
      "text/vnd.plotly.v1+html": [
       "<script type=\"text/javascript\">window.PlotlyConfig = {MathJaxConfig: 'local'};</script><script type=\"text/javascript\">if (window.MathJax) {MathJax.Hub.Config({SVG: {font: \"STIX-Web\"}});}</script><script>requirejs.config({paths: { 'plotly': ['https://cdn.plot.ly/plotly-latest.min']},});if(!window._Plotly) {require(['plotly'],function(plotly) {window._Plotly=plotly;});}</script>"
      ]
     },
     "metadata": {},
     "output_type": "display_data"
    }
   ],
   "source": [
    "#Libraries\n",
    "import plotly.plotly as py\n",
    "import plotly.graph_objs as go\n",
    "from plotly.offline import download_plotlyjs, init_notebook_mode, plot, iplot\n",
    "init_notebook_mode(connected=True)\n",
    "import pandas as pd"
   ]
  },
  {
   "cell_type": "code",
   "execution_count": 4,
   "metadata": {},
   "outputs": [],
   "source": [
    "#Creating a Data Dictionary\n",
    "\"dictionary that actually contains the data that you want to display on the map\"\n",
    "map_data = dict(type='choropleth',\n",
    "            locations=['MI', 'CO', 'FL', 'IN'],\n",
    "            locationmode='USA-states',\n",
    "            colorscale='Portland',\n",
    "            text=['Michigan', 'Colorado', 'Florida', 'Indiana'], #text contains a list of strings that will be displayed when the mouse hovers over the state location\n",
    "            z=[1.0,2.0,3.0,4.0], # numerical values that will be displayed when the mouse hovers over the state location\n",
    "            colorbar=dict(title=\"USA States\") #colorbar is a dictionary. title key-> you can specify the text that will be displayed on the color bar.\n",
    "           )\n",
    "#Creating a Layout\n",
    "map_layout = dict(geo = {'scope':'usa'}) #layout dictionary for the US\n",
    "\n",
    "#Creating Graph Object\n",
    "map_actual = go.Figure(data=[map_data], layout=map_layout)"
   ]
  },
  {
   "cell_type": "code",
   "execution_count": 5,
   "metadata": {},
   "outputs": [
    {
     "data": {
      "application/vnd.plotly.v1+json": {
       "config": {
        "linkText": "Export to plot.ly",
        "plotlyServerURL": "https://plot.ly",
        "showLink": false
       },
       "data": [
        {
         "colorbar": {
          "title": {
           "text": "USA States"
          }
         },
         "colorscale": "Portland",
         "locationmode": "USA-states",
         "locations": [
          "MI",
          "CO",
          "FL",
          "IN"
         ],
         "text": [
          "Michigan",
          "Colorado",
          "Florida",
          "Indiana"
         ],
         "type": "choropleth",
         "uid": "43226be6-b003-4af9-949a-f12d44568b13",
         "z": [
          1,
          2,
          3,
          4
         ]
        }
       ],
       "layout": {
        "geo": {
         "scope": "usa"
        }
       }
      },
      "text/html": [
       "<div id=\"7f46681f-cea5-47ff-bc72-8c7ac8584c61\" style=\"height: 525px; width: 100%;\" class=\"plotly-graph-div\"></div><script type=\"text/javascript\">require([\"plotly\"], function(Plotly) { window.PLOTLYENV=window.PLOTLYENV || {};window.PLOTLYENV.BASE_URL=\"https://plot.ly\";Plotly.newPlot(\"7f46681f-cea5-47ff-bc72-8c7ac8584c61\", [{\"colorbar\": {\"title\": {\"text\": \"USA States\"}}, \"colorscale\": \"Portland\", \"locationmode\": \"USA-states\", \"locations\": [\"MI\", \"CO\", \"FL\", \"IN\"], \"text\": [\"Michigan\", \"Colorado\", \"Florida\", \"Indiana\"], \"z\": [1.0, 2.0, 3.0, 4.0], \"type\": \"choropleth\", \"uid\": \"43226be6-b003-4af9-949a-f12d44568b13\"}], {\"geo\": {\"scope\": \"usa\"}}, {\"showLink\": false, \"linkText\": \"Export to plot.ly\", \"plotlyServerURL\": \"https://plot.ly\"})});</script><script type=\"text/javascript\">window.addEventListener(\"resize\", function(){window._Plotly.Plots.resize(document.getElementById(\"7f46681f-cea5-47ff-bc72-8c7ac8584c61\"));});</script>"
      ],
      "text/vnd.plotly.v1+html": [
       "<div id=\"7f46681f-cea5-47ff-bc72-8c7ac8584c61\" style=\"height: 525px; width: 100%;\" class=\"plotly-graph-div\"></div><script type=\"text/javascript\">require([\"plotly\"], function(Plotly) { window.PLOTLYENV=window.PLOTLYENV || {};window.PLOTLYENV.BASE_URL=\"https://plot.ly\";Plotly.newPlot(\"7f46681f-cea5-47ff-bc72-8c7ac8584c61\", [{\"colorbar\": {\"title\": {\"text\": \"USA States\"}}, \"colorscale\": \"Portland\", \"locationmode\": \"USA-states\", \"locations\": [\"MI\", \"CO\", \"FL\", \"IN\"], \"text\": [\"Michigan\", \"Colorado\", \"Florida\", \"Indiana\"], \"z\": [1.0, 2.0, 3.0, 4.0], \"type\": \"choropleth\", \"uid\": \"43226be6-b003-4af9-949a-f12d44568b13\"}], {\"geo\": {\"scope\": \"usa\"}}, {\"showLink\": false, \"linkText\": \"Export to plot.ly\", \"plotlyServerURL\": \"https://plot.ly\"})});</script><script type=\"text/javascript\">window.addEventListener(\"resize\", function(){window._Plotly.Plots.resize(document.getElementById(\"7f46681f-cea5-47ff-bc72-8c7ac8584c61\"));});</script>"
      ]
     },
     "metadata": {},
     "output_type": "display_data"
    }
   ],
   "source": [
    "#Plot\n",
    "iplot(map_actual)"
   ]
  },
  {
   "cell_type": "code",
   "execution_count": 7,
   "metadata": {},
   "outputs": [],
   "source": [
    "#Geographical Maps for the United States Using CSV\n",
    "\n",
    "#Libraries and data\n",
    "path='bea-gdp-by-state.csv'\n",
    "df=pd.read_csv(path)"
   ]
  },
  {
   "cell_type": "code",
   "execution_count": 8,
   "metadata": {},
   "outputs": [],
   "source": [
    "#Adding abbreviation for the states\n",
    "us_state_abbrev = {\n",
    "    'Alabama': 'AL',\n",
    "    'Alaska': 'AK',\n",
    "    'Arizona': 'AZ',\n",
    "    'Arkansas': 'AR',\n",
    "    'California': 'CA',\n",
    "    'Colorado': 'CO',\n",
    "    'Connecticut': 'CT',\n",
    "    'Delaware': 'DE',\n",
    "    'Florida': 'FL',\n",
    "    'Georgia': 'GA',\n",
    "    'Hawaii': 'HI',\n",
    "    'Idaho': 'ID',\n",
    "    'Illinois': 'IL',\n",
    "    'Indiana': 'IN',\n",
    "    'Iowa': 'IA',\n",
    "    'Kansas': 'KS',\n",
    "    'Kentucky': 'KY',\n",
    "    'Louisiana': 'LA',\n",
    "    'Maine': 'ME',\n",
    "    'Maryland': 'MD',\n",
    "    'Massachusetts': 'MA',\n",
    "    'Michigan': 'MI',\n",
    "    'Minnesota': 'MN',\n",
    "    'Mississippi': 'MS',\n",
    "    'Missouri': 'MO',\n",
    "    'Montana': 'MT',\n",
    "    'Nebraska': 'NE',\n",
    "    'Nevada': 'NV',\n",
    "    'New Hampshire': 'NH',\n",
    "    'New Jersey': 'NJ',\n",
    "    'New Mexico': 'NM',\n",
    "    'New York': 'NY',\n",
    "    'North Carolina': 'NC',\n",
    "    'North Dakota': 'ND',\n",
    "    'Ohio': 'OH',\n",
    "    'Oklahoma': 'OK',\n",
    "    'Oregon': 'OR',\n",
    "    'Pennsylvania': 'PA',\n",
    "    'Rhode Island': 'RI',\n",
    "    'South Carolina': 'SC',\n",
    "    'South Dakota': 'SD',\n",
    "    'Tennessee': 'TN',\n",
    "    'Texas': 'TX',\n",
    "    'Utah': 'UT',\n",
    "    'Vermont': 'VT',\n",
    "    'Virginia': 'VA',\n",
    "    'Washington': 'WA',\n",
    "    'West Virginia': 'WV',\n",
    "    'Wisconsin': 'WI',\n",
    "    'Wyoming': 'WY',\n",
    "}\n",
    "\n",
    "df['abbrev'] = df['Area'].map(us_state_abbrev)"
   ]
  },
  {
   "cell_type": "code",
   "execution_count": 9,
   "metadata": {},
   "outputs": [],
   "source": [
    "#Creating a Data Dictionary\n",
    "map_data = dict(type='choropleth',\n",
    "            locations=df['abbrev'], #the geographical plot for all the states in the US will be printed\n",
    "            locationmode='USA-states',\n",
    "            colorscale='Reds',\n",
    "            text=df['Area'],\n",
    "            marker=dict(line=dict(color='rgb(255,0,0)', width=2)),\n",
    "            z=df['2017'], #GDP for the year 2017\n",
    "            colorbar=dict(title=\"GDP Per Capita - 2017\")\n",
    "           )\n"
   ]
  },
  {
   "cell_type": "code",
   "execution_count": 10,
   "metadata": {},
   "outputs": [],
   "source": [
    "#Layout\n",
    "map_layout = dict(title='USA States GDP Per Capita - 2017',\n",
    "              geo=dict(scope='usa',\n",
    "                         showlakes=True, #lakes will be displayed on the map with colors as specified by the RGB\n",
    "                         lakecolor='rgb(85,173,240)')\n",
    "             )\n",
    "#Creating the graph object and passing it the data and layout dictionaries\n",
    "map_actual = go.Figure(data=[map_data], layout=map_layout)"
   ]
  },
  {
   "cell_type": "code",
   "execution_count": 11,
   "metadata": {},
   "outputs": [
    {
     "data": {
      "application/vnd.plotly.v1+json": {
       "config": {
        "linkText": "Export to plot.ly",
        "plotlyServerURL": "https://plot.ly",
        "showLink": false
       },
       "data": [
        {
         "colorbar": {
          "title": {
           "text": "GDP Per Capita - 2017"
          }
         },
         "colorscale": "Reds",
         "locationmode": "USA-states",
         "locations": [
          null,
          "AL",
          "AK",
          "AZ",
          "AR",
          "CA",
          "CO",
          "CT",
          "DE",
          null,
          "FL",
          "GA",
          "HI",
          "ID",
          "IL",
          "IN",
          "IA",
          "KS",
          "KY",
          "LA",
          "ME",
          "MD",
          "MA",
          "MI",
          "MN",
          "MS",
          "MO",
          "MT",
          "NE",
          "NV",
          "NH",
          "NJ",
          "NM",
          "NY",
          "NC",
          "ND",
          "OH",
          "OK",
          "OR",
          "PA",
          "RI",
          "SC",
          "SD",
          "TN",
          "TX",
          "UT",
          "VT",
          "VA",
          "WA",
          "WV",
          "WI",
          "WY",
          null,
          null,
          null,
          null,
          null,
          null,
          null,
          null
         ],
         "marker": {
          "line": {
           "color": "rgb(255,0,0)",
           "width": 2
          }
         },
         "text": [
          "United States",
          "Alabama",
          "Alaska",
          "Arizona",
          "Arkansas",
          "California",
          "Colorado",
          "Connecticut",
          "Delaware",
          "District of Columbia",
          "Florida",
          "Georgia",
          "Hawaii",
          "Idaho",
          "Illinois",
          "Indiana",
          "Iowa",
          "Kansas",
          "Kentucky",
          "Louisiana",
          "Maine",
          "Maryland",
          "Massachusetts",
          "Michigan",
          "Minnesota",
          "Mississippi",
          "Missouri",
          "Montana",
          "Nebraska",
          "Nevada",
          "New Hampshire",
          "New Jersey",
          "New Mexico",
          "New York",
          "North Carolina",
          "North Dakota",
          "Ohio",
          "Oklahoma",
          "Oregon",
          "Pennsylvania",
          "Rhode Island",
          "South Carolina",
          "South Dakota",
          "Tennessee",
          "Texas",
          "Utah",
          "Vermont",
          "Virginia",
          "Washington",
          "West Virginia",
          "Wisconsin",
          "Wyoming",
          "New England",
          "Mideast",
          "Great Lakes",
          "Plains",
          "Southeast",
          "Southwest",
          "Rocky Mountain",
          "Far West"
         ],
         "type": "choropleth",
         "uid": "fb061bf5-df0e-4fcc-8549-d7ac998a54c5",
         "z": [
          51337,
          37508,
          63610,
          39583,
          36714,
          60359,
          54026,
          62633,
          63955,
          159607,
          39842,
          45925,
          52869,
          36441,
          55102,
          46427,
          52284,
          47435,
          39277,
          44372,
          39521,
          56375,
          66500,
          44201,
          54805,
          32447,
          43036,
          39833,
          54654,
          44812,
          52509,
          56776,
          41619,
          65220,
          44706,
          64911,
          48188,
          44535,
          51312,
          51841,
          48314,
          37637,
          48004,
          44348,
          53737,
          45493,
          44831,
          52124,
          59333,
          37353,
          48666,
          61091,
          59637,
          60421,
          49034,
          50145,
          42300,
          49902,
          48398,
          58589
         ]
        }
       ],
       "layout": {
        "geo": {
         "lakecolor": "rgb(85,173,240)",
         "scope": "usa",
         "showlakes": true
        },
        "title": {
         "text": "USA States GDP Per Capita - 2017"
        }
       }
      },
      "text/html": [
       "<div id=\"d736f5d8-047c-45e0-a24c-3f58e84ea073\" style=\"height: 525px; width: 100%;\" class=\"plotly-graph-div\"></div><script type=\"text/javascript\">require([\"plotly\"], function(Plotly) { window.PLOTLYENV=window.PLOTLYENV || {};window.PLOTLYENV.BASE_URL=\"https://plot.ly\";Plotly.newPlot(\"d736f5d8-047c-45e0-a24c-3f58e84ea073\", [{\"colorbar\": {\"title\": {\"text\": \"GDP Per Capita - 2017\"}}, \"colorscale\": \"Reds\", \"locationmode\": \"USA-states\", \"locations\": [null, \"AL\", \"AK\", \"AZ\", \"AR\", \"CA\", \"CO\", \"CT\", \"DE\", null, \"FL\", \"GA\", \"HI\", \"ID\", \"IL\", \"IN\", \"IA\", \"KS\", \"KY\", \"LA\", \"ME\", \"MD\", \"MA\", \"MI\", \"MN\", \"MS\", \"MO\", \"MT\", \"NE\", \"NV\", \"NH\", \"NJ\", \"NM\", \"NY\", \"NC\", \"ND\", \"OH\", \"OK\", \"OR\", \"PA\", \"RI\", \"SC\", \"SD\", \"TN\", \"TX\", \"UT\", \"VT\", \"VA\", \"WA\", \"WV\", \"WI\", \"WY\", null, null, null, null, null, null, null, null], \"marker\": {\"line\": {\"color\": \"rgb(255,0,0)\", \"width\": 2}}, \"text\": [\"United States\", \"Alabama\", \"Alaska\", \"Arizona\", \"Arkansas\", \"California\", \"Colorado\", \"Connecticut\", \"Delaware\", \"District of Columbia\", \"Florida\", \"Georgia\", \"Hawaii\", \"Idaho\", \"Illinois\", \"Indiana\", \"Iowa\", \"Kansas\", \"Kentucky\", \"Louisiana\", \"Maine\", \"Maryland\", \"Massachusetts\", \"Michigan\", \"Minnesota\", \"Mississippi\", \"Missouri\", \"Montana\", \"Nebraska\", \"Nevada\", \"New Hampshire\", \"New Jersey\", \"New Mexico\", \"New York\", \"North Carolina\", \"North Dakota\", \"Ohio\", \"Oklahoma\", \"Oregon\", \"Pennsylvania\", \"Rhode Island\", \"South Carolina\", \"South Dakota\", \"Tennessee\", \"Texas\", \"Utah\", \"Vermont\", \"Virginia\", \"Washington\", \"West Virginia\", \"Wisconsin\", \"Wyoming\", \"New England\", \"Mideast\", \"Great Lakes\", \"Plains\", \"Southeast\", \"Southwest\", \"Rocky Mountain\", \"Far West\"], \"z\": [51337, 37508, 63610, 39583, 36714, 60359, 54026, 62633, 63955, 159607, 39842, 45925, 52869, 36441, 55102, 46427, 52284, 47435, 39277, 44372, 39521, 56375, 66500, 44201, 54805, 32447, 43036, 39833, 54654, 44812, 52509, 56776, 41619, 65220, 44706, 64911, 48188, 44535, 51312, 51841, 48314, 37637, 48004, 44348, 53737, 45493, 44831, 52124, 59333, 37353, 48666, 61091, 59637, 60421, 49034, 50145, 42300, 49902, 48398, 58589], \"type\": \"choropleth\", \"uid\": \"fb061bf5-df0e-4fcc-8549-d7ac998a54c5\"}], {\"geo\": {\"lakecolor\": \"rgb(85,173,240)\", \"scope\": \"usa\", \"showlakes\": true}, \"title\": {\"text\": \"USA States GDP Per Capita - 2017\"}}, {\"showLink\": false, \"linkText\": \"Export to plot.ly\", \"plotlyServerURL\": \"https://plot.ly\"})});</script><script type=\"text/javascript\">window.addEventListener(\"resize\", function(){window._Plotly.Plots.resize(document.getElementById(\"d736f5d8-047c-45e0-a24c-3f58e84ea073\"));});</script>"
      ],
      "text/vnd.plotly.v1+html": [
       "<div id=\"d736f5d8-047c-45e0-a24c-3f58e84ea073\" style=\"height: 525px; width: 100%;\" class=\"plotly-graph-div\"></div><script type=\"text/javascript\">require([\"plotly\"], function(Plotly) { window.PLOTLYENV=window.PLOTLYENV || {};window.PLOTLYENV.BASE_URL=\"https://plot.ly\";Plotly.newPlot(\"d736f5d8-047c-45e0-a24c-3f58e84ea073\", [{\"colorbar\": {\"title\": {\"text\": \"GDP Per Capita - 2017\"}}, \"colorscale\": \"Reds\", \"locationmode\": \"USA-states\", \"locations\": [null, \"AL\", \"AK\", \"AZ\", \"AR\", \"CA\", \"CO\", \"CT\", \"DE\", null, \"FL\", \"GA\", \"HI\", \"ID\", \"IL\", \"IN\", \"IA\", \"KS\", \"KY\", \"LA\", \"ME\", \"MD\", \"MA\", \"MI\", \"MN\", \"MS\", \"MO\", \"MT\", \"NE\", \"NV\", \"NH\", \"NJ\", \"NM\", \"NY\", \"NC\", \"ND\", \"OH\", \"OK\", \"OR\", \"PA\", \"RI\", \"SC\", \"SD\", \"TN\", \"TX\", \"UT\", \"VT\", \"VA\", \"WA\", \"WV\", \"WI\", \"WY\", null, null, null, null, null, null, null, null], \"marker\": {\"line\": {\"color\": \"rgb(255,0,0)\", \"width\": 2}}, \"text\": [\"United States\", \"Alabama\", \"Alaska\", \"Arizona\", \"Arkansas\", \"California\", \"Colorado\", \"Connecticut\", \"Delaware\", \"District of Columbia\", \"Florida\", \"Georgia\", \"Hawaii\", \"Idaho\", \"Illinois\", \"Indiana\", \"Iowa\", \"Kansas\", \"Kentucky\", \"Louisiana\", \"Maine\", \"Maryland\", \"Massachusetts\", \"Michigan\", \"Minnesota\", \"Mississippi\", \"Missouri\", \"Montana\", \"Nebraska\", \"Nevada\", \"New Hampshire\", \"New Jersey\", \"New Mexico\", \"New York\", \"North Carolina\", \"North Dakota\", \"Ohio\", \"Oklahoma\", \"Oregon\", \"Pennsylvania\", \"Rhode Island\", \"South Carolina\", \"South Dakota\", \"Tennessee\", \"Texas\", \"Utah\", \"Vermont\", \"Virginia\", \"Washington\", \"West Virginia\", \"Wisconsin\", \"Wyoming\", \"New England\", \"Mideast\", \"Great Lakes\", \"Plains\", \"Southeast\", \"Southwest\", \"Rocky Mountain\", \"Far West\"], \"z\": [51337, 37508, 63610, 39583, 36714, 60359, 54026, 62633, 63955, 159607, 39842, 45925, 52869, 36441, 55102, 46427, 52284, 47435, 39277, 44372, 39521, 56375, 66500, 44201, 54805, 32447, 43036, 39833, 54654, 44812, 52509, 56776, 41619, 65220, 44706, 64911, 48188, 44535, 51312, 51841, 48314, 37637, 48004, 44348, 53737, 45493, 44831, 52124, 59333, 37353, 48666, 61091, 59637, 60421, 49034, 50145, 42300, 49902, 48398, 58589], \"type\": \"choropleth\", \"uid\": \"fb061bf5-df0e-4fcc-8549-d7ac998a54c5\"}], {\"geo\": {\"lakecolor\": \"rgb(85,173,240)\", \"scope\": \"usa\", \"showlakes\": true}, \"title\": {\"text\": \"USA States GDP Per Capita - 2017\"}}, {\"showLink\": false, \"linkText\": \"Export to plot.ly\", \"plotlyServerURL\": \"https://plot.ly\"})});</script><script type=\"text/javascript\">window.addEventListener(\"resize\", function(){window._Plotly.Plots.resize(document.getElementById(\"d736f5d8-047c-45e0-a24c-3f58e84ea073\"));});</script>"
      ]
     },
     "metadata": {},
     "output_type": "display_data"
    }
   ],
   "source": [
    "#Plotting\n",
    "iplot(map_actual)"
   ]
  }
 ],
 "metadata": {
  "kernelspec": {
   "display_name": "Python 3",
   "language": "python",
   "name": "python3"
  },
  "language_info": {
   "codemirror_mode": {
    "name": "ipython",
    "version": 3
   },
   "file_extension": ".py",
   "mimetype": "text/x-python",
   "name": "python",
   "nbconvert_exporter": "python",
   "pygments_lexer": "ipython3",
   "version": "3.6.7"
  }
 },
 "nbformat": 4,
 "nbformat_minor": 2
}
