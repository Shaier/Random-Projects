{
 "cells": [
  {
   "cell_type": "code",
   "execution_count": 2,
   "metadata": {},
   "outputs": [
    {
     "name": "stdout",
     "output_type": "stream",
     "text": [
      "1\n"
     ]
    }
   ],
   "source": [
    "#Linear Search\n",
    "\n",
    "def LinearSearch(lys, element):\n",
    "    for i in range (len(lys)):\n",
    "        if lys[i] == element:\n",
    "            return i\n",
    "    return -1\n",
    "print(LinearSearch([1,2,3,4,5,2,1], 2)) #Index of the first occurence"
   ]
  },
  {
   "cell_type": "code",
   "execution_count": 3,
   "metadata": {},
   "outputs": [
    {
     "name": "stdout",
     "output_type": "stream",
     "text": [
      "2\n"
     ]
    }
   ],
   "source": [
    "#Binary Search\n",
    "#Requires that the array will be sorted\n",
    "'''\n",
    "\"If mid is the element we are looking for (best case), we return its index.\n",
    "If not, we identify which side of mid val is more likely to be on based on whether val is smaller or greater than mid,\n",
    "and discard the other side of the array. We then recursively or iteratively follow the same steps, choosing a new value \n",
    "for mid, comparing it with val and discarding half of the possible matches in each iteration of the algorithm.\"\n",
    "'''\n",
    "def BinarySearch(lys, val):\n",
    "    first = 0\n",
    "    last = len(lys)-1\n",
    "    index = -1\n",
    "    while (first <= last) and (index == -1):\n",
    "        mid = (first+last)//2\n",
    "        if lys[mid] == val:\n",
    "            index = mid\n",
    "        else:\n",
    "            if val<lys[mid]:\n",
    "                last = mid -1\n",
    "            else:\n",
    "                first = mid +1\n",
    "    return index\n",
    "BinarySearch([10,20,30,40,50], 20)\n",
    "\n",
    "#A drawback of this algorithm is that if there are similar terms it does not return the index of the first element,\n",
    "#but rather the index of the element closest to the middle:\n",
    "print(BinarySearch([4,4,4,4,4], 4)) #Prints 1\n",
    "#linear search would print 0"
   ]
  },
  {
   "cell_type": "code",
   "execution_count": 4,
   "metadata": {},
   "outputs": [
    {
     "name": "stdout",
     "output_type": "stream",
     "text": [
      "4\n"
     ]
    }
   ],
   "source": [
    "#Jump Search\n",
    "#Needs a sorted array\n",
    "\"instead of searching through the array elements incrementally, we search in jumps\"\n",
    "\"lys[0], lys[0+jump], lys[0+2jump], lys[0+3jump]...\"\n",
    "\"With each jump, we store the previous value we looked at and its index. When we find a set of values where\" \\\n",
    "\"lys[i]lys[i+jump], we perform a linear search with lys[i] as the left-most element and lys[i+jump] as the right-most element in our search set:\"\n",
    "import math\n",
    "\n",
    "def JumpSearch (lys, val):\n",
    "    length = len(lys)\n",
    "    jump = int(math.sqrt(length))\n",
    "    left, right = 0, 0\n",
    "    while left < length and lys[left] <= val:\n",
    "        right = min(length - 1, left + jump)\n",
    "        if lys[left] <= val and lys[right] >= val:\n",
    "            break\n",
    "        left += jump;\n",
    "    if left >= length or lys[left] > val:\n",
    "        return -1\n",
    "    right = min(length - 1, right)\n",
    "    i = left\n",
    "    while i <= right and lys[i] <= val:\n",
    "        if lys[i] == val:\n",
    "            return i\n",
    "        i += 1\n",
    "    return -1\n",
    "print(JumpSearch([1,2,3,4,5,6,7,8,9], 5)) #Prints 4"
   ]
  },
  {
   "cell_type": "code",
   "execution_count": 5,
   "metadata": {},
   "outputs": [
    {
     "name": "stdout",
     "output_type": "stream",
     "text": [
      "5\n"
     ]
    }
   ],
   "source": [
    "#Fibonacci Search\n",
    "\"uses Fibonacci numbers to calculate the block size or search range in each step.\"\n",
    "#The algorithm uses 3 fib. numbers at a time (call them fibM, fibM_minus_1, and fibM_minus_2)\n",
    "#fibM = fibM_minus_1 + fibM_minus_2\n",
    "#Start with 0,1,1 for the 3 numbers.\n",
    "#Then choose the smallest number of the Fib sequence that is greater than or equal to the number of elements in our search array lys\n",
    "\n",
    "def FibonacciSearch(lys, val):\n",
    "    fibM_minus_2 = 0\n",
    "    fibM_minus_1 = 1\n",
    "    fibM = fibM_minus_1 + fibM_minus_2\n",
    "    while (fibM < len(lys)):\n",
    "        fibM_minus_2 = fibM_minus_1\n",
    "        fibM_minus_1 = fibM\n",
    "        fibM = fibM_minus_1 + fibM_minus_2\n",
    "    index = -1;\n",
    "    while (fibM > 1):\n",
    "        i = min(index + fibM_minus_2, (len(lys)-1))\n",
    "        if (lys[i] < val):\n",
    "            fibM = fibM_minus_1\n",
    "            fibM_minus_1 = fibM_minus_2\n",
    "            fibM_minus_2 = fibM - fibM_minus_1\n",
    "            index = i\n",
    "        elif (lys[i] > val):\n",
    "            fibM = fibM_minus_2\n",
    "            fibM_minus_1 = fibM_minus_1 - fibM_minus_2\n",
    "            fibM_minus_2 = fibM - fibM_minus_1\n",
    "        else :\n",
    "            return i\n",
    "    if(fibM_minus_1 and index < (len(lys)-1) and lys[index+1] == val):\n",
    "        return index+1;\n",
    "    return -1\n",
    "print(FibonacciSearch([1,2,3,4,5,6,7,8,9,10,11], 6))"
   ]
  },
  {
   "cell_type": "code",
   "execution_count": 6,
   "metadata": {},
   "outputs": [
    {
     "name": "stdout",
     "output_type": "stream",
     "text": [
      "2\n"
     ]
    }
   ],
   "source": [
    "#Exponential Search\n",
    "\n",
    "def ExponentialSearch(lys, val):\n",
    "    if lys[0] == val:\n",
    "        return 0\n",
    "    index = 1\n",
    "    while index < len(lys) and lys[index] <= val:\n",
    "        index = index * 2\n",
    "    return BinarySearch(lys[:min(index, len(lys))], val)\n",
    "\n",
    "print(ExponentialSearch([1,2,3,4,5,6,7,8],3))"
   ]
  },
  {
   "cell_type": "code",
   "execution_count": 8,
   "metadata": {},
   "outputs": [
    {
     "name": "stdout",
     "output_type": "stream",
     "text": [
      "5\n"
     ]
    }
   ],
   "source": [
    "#Interpolation Search\n",
    "\"Interpolation search calculates the probable position of the element we are searching for using the formula:\"\n",
    "#index = low + [(val-lys[low])*(high-low) / (lys[high]-lys[low])]\n",
    "\"Interpolation search works best on uniformly distributed, sorted arrays. Whereas binary search starts in the middle \" \\\n",
    "\"and always divides into two, interpolation search calculates the likely position of the element and checks the index, \" \\\n",
    "\"making it more likely to find the element in a smaller number of iterations.\"\n",
    "'''\n",
    "lys - our input array\n",
    "val - the element we are searching for\n",
    "index - the probable index of the search element. This is computed to be a higher value when val is closer in value to the element at the end of the array (lys[high]), and lower when val is closer in value to the element at the start of the array (lys[low])\n",
    "low - the starting index of the array\n",
    "high - the last index of the array\n",
    "'''\n",
    "def InterpolationSearch(lys, val):\n",
    "    low = 0\n",
    "    high = (len(lys) - 1)\n",
    "    while low <= high and val >= lys[low] and val <= lys[high]:\n",
    "        index = low + int(((float(high - low) / ( lys[high] - lys[low])) * ( val - lys[low])))\n",
    "        if lys[index] == val:\n",
    "            return index\n",
    "        if lys[index] < val:\n",
    "            low = index + 1;\n",
    "        else:\n",
    "            high = index - 1;\n",
    "    return -1\n",
    "\n",
    "print(InterpolationSearch([1,2,3,4,5,6,7,8], 6))"
   ]
  }
 ],
 "metadata": {
  "kernelspec": {
   "display_name": "Python 3",
   "language": "python",
   "name": "python3"
  },
  "language_info": {
   "codemirror_mode": {
    "name": "ipython",
    "version": 3
   },
   "file_extension": ".py",
   "mimetype": "text/x-python",
   "name": "python",
   "nbconvert_exporter": "python",
   "pygments_lexer": "ipython3",
   "version": "3.6.7"
  }
 },
 "nbformat": 4,
 "nbformat_minor": 2
}
