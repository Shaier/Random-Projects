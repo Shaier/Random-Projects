{
 "cells": [
  {
   "cell_type": "code",
   "execution_count": 10,
   "metadata": {},
   "outputs": [],
   "source": [
    "#We'll be using LSTM (Long Short-Term Memory network)- \"type of recurrent neural network capable of remembering the past information and while predicting the future values, it takes this past information into account.\"\n",
    "#feb 2nd 2017 to feb 2nd 2019\n",
    "\n",
    "#Libraries and data\n",
    "import numpy as np\n",
    "import matplotlib.pyplot as plt\n",
    "import pandas as pd"
   ]
  },
  {
   "cell_type": "code",
   "execution_count": 27,
   "metadata": {},
   "outputs": [],
   "source": [
    "#Read data\n",
    "apple_training_complete=pd.read_csv('trainingAAPL.csv')"
   ]
  },
  {
   "cell_type": "code",
   "execution_count": 28,
   "metadata": {},
   "outputs": [
    {
     "data": {
      "text/plain": [
       "(1511, 7)"
      ]
     },
     "execution_count": 28,
     "metadata": {},
     "output_type": "execute_result"
    }
   ],
   "source": [
    "#Explore data\n",
    "apple_training_complete.head()\n",
    "apple_training_complete.describe()\n",
    "apple_training_complete.shape"
   ]
  },
  {
   "cell_type": "code",
   "execution_count": 29,
   "metadata": {},
   "outputs": [],
   "source": [
    "#We only care about the opening prices\n",
    "apple_training_processed = apple_training_complete.iloc[:, 1:2].values"
   ]
  },
  {
   "cell_type": "code",
   "execution_count": 30,
   "metadata": {},
   "outputs": [],
   "source": [
    "#Data scaling\n",
    "from sklearn.preprocessing import MinMaxScaler\n",
    "scaler = MinMaxScaler(feature_range = (0, 1)) #scale the data between 0 and 1\n",
    "apple_training_scaled = scaler.fit_transform(apple_training_processed)"
   ]
  },
  {
   "cell_type": "code",
   "execution_count": 31,
   "metadata": {},
   "outputs": [],
   "source": [
    "#predicting the opening stock prices based on the opening stock prices for the past 60 days\n",
    "\"the feature set should contain the opening stock price values for the past 60 days\"\n",
    "\"the label (dependent var.) should be the stock price at the 61st day\"\n",
    "features_set = []\n",
    "labels = []\n",
    "for i in range(60, 1511): #the data has 1510 records\n",
    "    features_set.append(apple_training_scaled[i-60:i, 0]) #loop that starts from 61st record and stores all the previous 60 records to the feature_set list\"\n",
    "    labels.append(apple_training_scaled[i, 0]) #the 61st record is stored in the labels list\n",
    "\n",
    "features_set, labels = np.array(features_set), np.array(labels)  #convert to numpy array\n",
    "#LSTM required a 3 dimension format so we'll convert ours\n",
    "#first dimension is the number of records or rows (1511 here)\n",
    "#second dimension is the number of time steps (60 here)\n",
    "#third dimension is the number of indicators (we are only using 1 feature - open, so 1 indicator)\n",
    "\n",
    "features_set = np.reshape(features_set, (features_set.shape[0], features_set.shape[1], 1))"
   ]
  },
  {
   "cell_type": "code",
   "execution_count": 32,
   "metadata": {},
   "outputs": [],
   "source": [
    "#Define the model\n",
    "from keras.models import Sequential\n",
    "from keras.layers import Dense\n",
    "from keras.layers import LSTM\n",
    "from keras.layers import Dropout\n",
    "\n",
    "model = Sequential() #the model class. We will add LSTM, Dropout and Dense layers to this model.\n",
    "\n",
    "#Creating LSTM and Dropout Layers\n",
    "model.add(LSTM(units=50, return_sequences=True, input_shape=(features_set.shape[1], 1))) #use add() to add a layer\n",
    "\"The first parameter to the LSTM layer is the number of neurons or nodes that we want in the layer. The second parameter\" \\\n",
    "\" is return_sequences, which is set to true since we will add more layers to the model. The first parameter to the input_\" \\\n",
    "\"shape is the number of time steps while the last parameter is the number of indicators.\"\n",
    "\n",
    "#Adding a dropout layer to our model (to avoid over-fitting)\n",
    "model.add(Dropout(0.2))\n",
    "\n",
    "#Adding three more LSTM and dropout layers to our model\n",
    "model.add(LSTM(units=50, return_sequences=True))\n",
    "model.add(Dropout(0.2))\n",
    "\n",
    "model.add(LSTM(units=50, return_sequences=True))\n",
    "model.add(Dropout(0.2))\n",
    "\n",
    "model.add(LSTM(units=50))\n",
    "model.add(Dropout(0.2))\n",
    "\n",
    "#Creating Dense Layer\n",
    "\"To make our model more robust, we add a dense layer at the end of the model. The number of neurons in the dense layer\" \\\n",
    "\" will be set to 1 since we want to predict a single value in the output\"\n",
    "model.add(Dense(units = 1))"
   ]
  },
  {
   "cell_type": "code",
   "execution_count": 33,
   "metadata": {},
   "outputs": [],
   "source": [
    "#Compile the LSTM\n",
    "#adam optimizer to reduce the loss or to optimize the algorithm\n",
    "model.compile(optimizer = 'adam', loss = 'mean_squared_error') #mean squared error as loss function"
   ]
  },
  {
   "cell_type": "code",
   "execution_count": 34,
   "metadata": {},
   "outputs": [
    {
     "name": "stdout",
     "output_type": "stream",
     "text": [
      "Epoch 1/100\n",
      "1451/1451 [==============================] - 11s 7ms/step - loss: 0.0281\n",
      "Epoch 2/100\n",
      "1451/1451 [==============================] - 7s 5ms/step - loss: 0.0044\n",
      "Epoch 3/100\n",
      "1451/1451 [==============================] - 7s 5ms/step - loss: 0.0036\n",
      "Epoch 4/100\n",
      "1451/1451 [==============================] - 7s 5ms/step - loss: 0.0034\n",
      "Epoch 5/100\n",
      "1451/1451 [==============================] - 7s 5ms/step - loss: 0.0035\n",
      "Epoch 6/100\n",
      "1451/1451 [==============================] - 7s 5ms/step - loss: 0.0042\n",
      "Epoch 7/100\n",
      "1451/1451 [==============================] - 7s 5ms/step - loss: 0.0030\n",
      "Epoch 8/100\n",
      "1451/1451 [==============================] - 8s 6ms/step - loss: 0.0027\n",
      "Epoch 9/100\n",
      "1451/1451 [==============================] - 7s 5ms/step - loss: 0.0028\n",
      "Epoch 10/100\n",
      "1451/1451 [==============================] - 8s 5ms/step - loss: 0.0027\n",
      "Epoch 11/100\n",
      "1451/1451 [==============================] - 7s 5ms/step - loss: 0.0026\n",
      "Epoch 12/100\n",
      "1451/1451 [==============================] - 8s 6ms/step - loss: 0.0025\n",
      "Epoch 13/100\n",
      "1451/1451 [==============================] - 8s 6ms/step - loss: 0.0024\n",
      "Epoch 14/100\n",
      "1451/1451 [==============================] - 7s 5ms/step - loss: 0.0021\n",
      "Epoch 15/100\n",
      "1451/1451 [==============================] - 7s 5ms/step - loss: 0.0020\n",
      "Epoch 16/100\n",
      "1451/1451 [==============================] - 6s 4ms/step - loss: 0.0021\n",
      "Epoch 17/100\n",
      "1451/1451 [==============================] - 7s 5ms/step - loss: 0.0022\n",
      "Epoch 18/100\n",
      "1451/1451 [==============================] - 6s 4ms/step - loss: 0.0020\n",
      "Epoch 19/100\n",
      "1451/1451 [==============================] - 6s 4ms/step - loss: 0.0024\n",
      "Epoch 20/100\n",
      "1451/1451 [==============================] - 6s 4ms/step - loss: 0.0019\n",
      "Epoch 21/100\n",
      "1451/1451 [==============================] - 6s 4ms/step - loss: 0.0021\n",
      "Epoch 22/100\n",
      "1451/1451 [==============================] - 6s 4ms/step - loss: 0.0020\n",
      "Epoch 23/100\n",
      "1451/1451 [==============================] - 6s 4ms/step - loss: 0.0021\n",
      "Epoch 24/100\n",
      "1451/1451 [==============================] - 6s 4ms/step - loss: 0.0019\n",
      "Epoch 25/100\n",
      "1451/1451 [==============================] - 7s 5ms/step - loss: 0.0020\n",
      "Epoch 26/100\n",
      "1451/1451 [==============================] - 7s 5ms/step - loss: 0.0023\n",
      "Epoch 27/100\n",
      "1451/1451 [==============================] - 7s 5ms/step - loss: 0.0017\n",
      "Epoch 28/100\n",
      "1451/1451 [==============================] - 7s 5ms/step - loss: 0.0017\n",
      "Epoch 29/100\n",
      "1451/1451 [==============================] - 6s 4ms/step - loss: 0.0016\n",
      "Epoch 30/100\n",
      "1451/1451 [==============================] - 6s 4ms/step - loss: 0.0016\n",
      "Epoch 31/100\n",
      "1451/1451 [==============================] - 7s 5ms/step - loss: 0.0016\n",
      "Epoch 32/100\n",
      "1451/1451 [==============================] - 6s 4ms/step - loss: 0.0017\n",
      "Epoch 33/100\n",
      "1451/1451 [==============================] - 6s 4ms/step - loss: 0.0015\n",
      "Epoch 34/100\n",
      "1451/1451 [==============================] - 6s 4ms/step - loss: 0.0017\n",
      "Epoch 35/100\n",
      "1451/1451 [==============================] - 8s 5ms/step - loss: 0.0015\n",
      "Epoch 36/100\n",
      "1451/1451 [==============================] - 7s 5ms/step - loss: 0.0014\n",
      "Epoch 37/100\n",
      "1451/1451 [==============================] - 8s 5ms/step - loss: 0.0014\n",
      "Epoch 38/100\n",
      "1451/1451 [==============================] - 8s 5ms/step - loss: 0.0014\n",
      "Epoch 39/100\n",
      "1451/1451 [==============================] - 8s 5ms/step - loss: 0.0014\n",
      "Epoch 40/100\n",
      "1451/1451 [==============================] - 8s 5ms/step - loss: 0.0015\n",
      "Epoch 41/100\n",
      "1451/1451 [==============================] - 7s 5ms/step - loss: 0.0013\n",
      "Epoch 42/100\n",
      "1451/1451 [==============================] - 7s 5ms/step - loss: 0.0013\n",
      "Epoch 43/100\n",
      "1451/1451 [==============================] - 7s 5ms/step - loss: 0.0013\n",
      "Epoch 44/100\n",
      "1451/1451 [==============================] - 8s 5ms/step - loss: 0.0013\n",
      "Epoch 45/100\n",
      "1451/1451 [==============================] - 7s 5ms/step - loss: 0.0012\n",
      "Epoch 46/100\n",
      "1451/1451 [==============================] - 8s 5ms/step - loss: 0.0013\n",
      "Epoch 47/100\n",
      "1451/1451 [==============================] - 7s 5ms/step - loss: 0.0013\n",
      "Epoch 48/100\n",
      "1451/1451 [==============================] - 7s 5ms/step - loss: 0.0014\n",
      "Epoch 49/100\n",
      "1451/1451 [==============================] - 7s 5ms/step - loss: 0.0014\n",
      "Epoch 50/100\n",
      "1451/1451 [==============================] - 7s 5ms/step - loss: 0.0012\n",
      "Epoch 51/100\n",
      "1451/1451 [==============================] - 8s 5ms/step - loss: 0.0012A: 2s -\n",
      "Epoch 52/100\n",
      "1451/1451 [==============================] - 7s 5ms/step - loss: 0.0012\n",
      "Epoch 53/100\n",
      "1451/1451 [==============================] - 8s 5ms/step - loss: 0.0013A: 2s -\n",
      "Epoch 54/100\n",
      "1451/1451 [==============================] - 7s 5ms/step - loss: 0.0013\n",
      "Epoch 55/100\n",
      "1451/1451 [==============================] - 9s 6ms/step - loss: 0.0012\n",
      "Epoch 56/100\n",
      "1451/1451 [==============================] - 9s 6ms/step - loss: 0.0013\n",
      "Epoch 57/100\n",
      "1451/1451 [==============================] - 8s 5ms/step - loss: 0.0013\n",
      "Epoch 58/100\n",
      "1451/1451 [==============================] - 8s 6ms/step - loss: 0.0012\n",
      "Epoch 59/100\n",
      "1451/1451 [==============================] - 10s 7ms/step - loss: 0.0011\n",
      "Epoch 60/100\n",
      "1451/1451 [==============================] - 10s 7ms/step - loss: 0.0011\n",
      "Epoch 61/100\n",
      "1451/1451 [==============================] - 9s 6ms/step - loss: 9.7810e-04\n",
      "Epoch 62/100\n",
      "1451/1451 [==============================] - 9s 6ms/step - loss: 0.0012\n",
      "Epoch 63/100\n",
      "1451/1451 [==============================] - 9s 6ms/step - loss: 0.0011\n",
      "Epoch 64/100\n",
      "1451/1451 [==============================] - 9s 6ms/step - loss: 0.0012\n",
      "Epoch 65/100\n",
      "1451/1451 [==============================] - 9s 6ms/step - loss: 0.0011\n",
      "Epoch 66/100\n",
      "1451/1451 [==============================] - 8s 5ms/step - loss: 0.0011\n",
      "Epoch 67/100\n",
      "1451/1451 [==============================] - 8s 6ms/step - loss: 9.5176e-04\n",
      "Epoch 68/100\n",
      "1451/1451 [==============================] - 8s 6ms/step - loss: 9.8798e-04\n",
      "Epoch 69/100\n",
      "1451/1451 [==============================] - 8s 5ms/step - loss: 0.0011\n",
      "Epoch 70/100\n",
      "1451/1451 [==============================] - 8s 5ms/step - loss: 9.7849e-04\n",
      "Epoch 71/100\n",
      "1451/1451 [==============================] - 8s 5ms/step - loss: 9.9152e-04\n",
      "Epoch 72/100\n",
      "1451/1451 [==============================] - 8s 5ms/step - loss: 9.6816e-04\n",
      "Epoch 73/100\n",
      "1451/1451 [==============================] - 7s 5ms/step - loss: 8.9575e-04\n",
      "Epoch 74/100\n",
      "1451/1451 [==============================] - 8s 5ms/step - loss: 0.0010\n",
      "Epoch 75/100\n",
      "1451/1451 [==============================] - 7s 5ms/step - loss: 0.0010\n",
      "Epoch 76/100\n",
      "1451/1451 [==============================] - 7s 5ms/step - loss: 0.0010\n",
      "Epoch 77/100\n",
      "1451/1451 [==============================] - 7s 5ms/step - loss: 9.6050e-04\n",
      "Epoch 78/100\n",
      "1451/1451 [==============================] - 7s 5ms/step - loss: 9.5702e-04\n",
      "Epoch 79/100\n",
      "1451/1451 [==============================] - 7s 5ms/step - loss: 0.0011\n",
      "Epoch 80/100\n",
      "1451/1451 [==============================] - 7s 5ms/step - loss: 0.0011\n",
      "Epoch 81/100\n",
      "1451/1451 [==============================] - 7s 5ms/step - loss: 9.5552e-04\n",
      "Epoch 82/100\n",
      "1451/1451 [==============================] - 7s 5ms/step - loss: 9.6440e-04\n",
      "Epoch 83/100\n",
      "1451/1451 [==============================] - 7s 5ms/step - loss: 8.7975e-04\n",
      "Epoch 84/100\n",
      "1451/1451 [==============================] - 7s 5ms/step - loss: 9.0158e-04\n",
      "Epoch 85/100\n",
      "1451/1451 [==============================] - 7s 5ms/step - loss: 8.7808e-04\n",
      "Epoch 86/100\n",
      "1451/1451 [==============================] - 7s 5ms/step - loss: 8.6899e-04\n",
      "Epoch 87/100\n",
      "1451/1451 [==============================] - 7s 5ms/step - loss: 9.0406e-04\n",
      "Epoch 88/100\n",
      "1451/1451 [==============================] - 7s 5ms/step - loss: 9.3592e-04\n",
      "Epoch 89/100\n",
      "1451/1451 [==============================] - 7s 5ms/step - loss: 0.0010\n",
      "Epoch 90/100\n",
      "1451/1451 [==============================] - 7s 5ms/step - loss: 8.9711e-04\n",
      "Epoch 91/100\n",
      "1451/1451 [==============================] - 7s 5ms/step - loss: 8.2369e-04\n",
      "Epoch 92/100\n",
      "1451/1451 [==============================] - 7s 5ms/step - loss: 0.0010\n",
      "Epoch 93/100\n",
      "1451/1451 [==============================] - 7s 5ms/step - loss: 8.5016e-04\n",
      "Epoch 94/100\n",
      "1451/1451 [==============================] - 7s 5ms/step - loss: 8.2489e-04\n",
      "Epoch 95/100\n",
      "1451/1451 [==============================] - 7s 5ms/step - loss: 9.0245e-04\n",
      "Epoch 96/100\n",
      "1451/1451 [==============================] - 7s 5ms/step - loss: 8.8148e-04\n",
      "Epoch 97/100\n",
      "1451/1451 [==============================] - 7s 5ms/step - loss: 7.8000e-04\n",
      "Epoch 98/100\n",
      "1451/1451 [==============================] - 7s 5ms/step - loss: 8.9504e-04\n",
      "Epoch 99/100\n",
      "1451/1451 [==============================] - 7s 5ms/step - loss: 8.1153e-04\n",
      "Epoch 100/100\n",
      "1451/1451 [==============================] - 7s 5ms/step - loss: 8.9646e-04\n"
     ]
    },
    {
     "data": {
      "text/plain": [
       "<keras.callbacks.History at 0x88b79b8518>"
      ]
     },
     "execution_count": 34,
     "metadata": {},
     "output_type": "execute_result"
    }
   ],
   "source": [
    "#Training\n",
    "model.fit(features_set, labels, epochs = 100, batch_size = 32)"
   ]
  },
  {
   "cell_type": "code",
   "execution_count": 37,
   "metadata": {},
   "outputs": [],
   "source": [
    "#Testing\n",
    "#Importing the testing data\n",
    "apple_testing_complete = pd.read_csv('testingAAPL.csv')\n",
    "apple_testing_processed = apple_testing_complete.iloc[:, 1:2].values"
   ]
  },
  {
   "cell_type": "code",
   "execution_count": 38,
   "metadata": {},
   "outputs": [],
   "source": [
    "#Converting Test Data to Right Format\n",
    "apple_total = pd.concat((apple_training_complete['Open'], apple_testing_complete['Open']), axis=0)\n",
    "test_inputs = apple_total[len(apple_total) - len(apple_testing_complete) - 60:].values"
   ]
  },
  {
   "cell_type": "code",
   "execution_count": 39,
   "metadata": {},
   "outputs": [],
   "source": [
    "#Scaling\n",
    "test_inputs = test_inputs.reshape(-1,1)\n",
    "test_inputs = scaler.transform(test_inputs)"
   ]
  },
  {
   "cell_type": "code",
   "execution_count": 40,
   "metadata": {},
   "outputs": [],
   "source": [
    "#Prepating the testing data\n",
    "test_features = []\n",
    "for i in range(60, 80):\n",
    "    test_features.append(test_inputs[i-60:i, 0])"
   ]
  },
  {
   "cell_type": "code",
   "execution_count": 41,
   "metadata": {},
   "outputs": [],
   "source": [
    "#Convert to 3 dimensions\n",
    "test_features = np.array(test_features)\n",
    "test_features = np.reshape(test_features, (test_features.shape[0], test_features.shape[1], 1))"
   ]
  },
  {
   "cell_type": "code",
   "execution_count": 42,
   "metadata": {},
   "outputs": [],
   "source": [
    "#Predictions\n",
    "predictions = model.predict(test_features)\n",
    "\n",
    "\"Since we scaled our data, the predictions made by the LSTM are also scaled. We need to reverse the scaled prediction back to their actual values.\"\n",
    "predictions = scaler.inverse_transform(predictions)"
   ]
  },
  {
   "cell_type": "code",
   "execution_count": 43,
   "metadata": {},
   "outputs": [
    {
     "data": {
      "image/png": "[encoded data removed]",
      "text/plain": [
       "<Figure size 720x432 with 1 Axes>"
      ]
     },
     "metadata": {
      "needs_background": "light"
     },
     "output_type": "display_data"
    }
   ],
   "source": [
    "#Plotting\n",
    "plt.figure(figsize=(10,6))\n",
    "plt.plot(apple_testing_processed, color='blue', label='Actual Apple Stock Price')\n",
    "plt.plot(predictions , color='red', label='Predicted Apple Stock Price')\n",
    "plt.title('Apple Stock Price Prediction')\n",
    "plt.xlabel('Date')\n",
    "plt.ylabel('Apple Stock Price')\n",
    "plt.legend()\n",
    "plt.show()"
   ]
  }
 ],
 "metadata": {
  "kernelspec": {
   "display_name": "Python 3",
   "language": "python",
   "name": "python3"
  },
  "language_info": {
   "codemirror_mode": {
    "name": "ipython",
    "version": 3
   },
   "file_extension": ".py",
   "mimetype": "text/x-python",
   "name": "python",
   "nbconvert_exporter": "python",
   "pygments_lexer": "ipython3",
   "version": "3.6.7"
  }
 },
 "nbformat": 4,
 "nbformat_minor": 2
}
