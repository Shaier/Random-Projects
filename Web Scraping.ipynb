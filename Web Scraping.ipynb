{
 "cells": [
  {
   "cell_type": "code",
   "execution_count": 2,
   "metadata": {},
   "outputs": [],
   "source": [
    "#The Web Scraping Pipeline\n",
    "'''\n",
    "\"\n",
    "1.Downloading: Downloading the HTML web-page\n",
    "2.Parsing: Parsing the HTML and retrieving data we're interested in\n",
    "3.Storing: Storing the retrieved data in our local machine in a specific format\n",
    "\"\n",
    "'''\n",
    "\n",
    "#Downloading HTML\n",
    "import requests\n",
    "result = requests.get('http://quotes.toscrape.com/')\n",
    "page = result.text"
   ]
  },
  {
   "cell_type": "code",
   "execution_count": 3,
   "metadata": {},
   "outputs": [],
   "source": [
    "#Parsing HTML and Extracting Data\n",
    "\"parsing is the process of analyzing a string so that we can understand its contents and thus access data within it easily.\"\n",
    "\n",
    "from bs4 import BeautifulSoup\n",
    "soup = BeautifulSoup(page, 'html.parser') #create a parsed version of the page by passing it to the BeautifulSoup\n",
    "#html.parser is the parser that Beautiful Soup is using to parse the string"
   ]
  },
  {
   "cell_type": "code",
   "execution_count": 7,
   "metadata": {},
   "outputs": [],
   "source": [
    "#extract all the div tags in the page containing class=\"quote\"\n",
    "quotes = soup.find_all('div', class_='quote')\n",
    "\n",
    "scraped = []\n",
    "for quote in quotes:\n",
    "    text = quote.find('span', class_='text').text\n",
    "    author = quote.find('small', class_='author').text\n",
    "    scraped.append([text, author])"
   ]
  },
  {
   "cell_type": "code",
   "execution_count": 8,
   "metadata": {
    "collapsed": true
   },
   "outputs": [
    {
     "data": {
      "text/plain": [
       "[['“The world as we have created it is a process of our thinking. It cannot be changed without changing our thinking.”',\n",
       "  'Albert Einstein'],\n",
       " ['“It is our choices, Harry, that show what we truly are, far more than our abilities.”',\n",
       "  'J.K. Rowling'],\n",
       " ['“There are only two ways to live your life. One is as though nothing is a miracle. The other is as though everything is a miracle.”',\n",
       "  'Albert Einstein'],\n",
       " ['“The person, be it gentleman or lady, who has not pleasure in a good novel, must be intolerably stupid.”',\n",
       "  'Jane Austen'],\n",
       " [\"“Imperfection is beauty, madness is genius and it's better to be absolutely ridiculous than absolutely boring.”\",\n",
       "  'Marilyn Monroe'],\n",
       " ['“Try not to become a man of success. Rather become a man of value.”',\n",
       "  'Albert Einstein'],\n",
       " ['“It is better to be hated for what you are than to be loved for what you are not.”',\n",
       "  'André Gide'],\n",
       " [\"“I have not failed. I've just found 10,000 ways that won't work.”\",\n",
       "  'Thomas A. Edison'],\n",
       " [\"“A woman is like a tea bag; you never know how strong it is until it's in hot water.”\",\n",
       "  'Eleanor Roosevelt'],\n",
       " ['“A day without sunshine is like, you know, night.”', 'Steve Martin']]"
      ]
     },
     "execution_count": 8,
     "metadata": {},
     "output_type": "execute_result"
    }
   ],
   "source": [
    "#Show the quotes\n",
    "scraped"
   ]
  },
  {
   "cell_type": "code",
   "execution_count": 9,
   "metadata": {},
   "outputs": [],
   "source": [
    "#Storing the Retrieved Data\n",
    "import csv\n",
    "\n",
    "with open('quotes.csv', 'w') as csv_file:\n",
    "    writer = csv.writer(csv_file, delimiter=',') # create a CSV writer using the opened quotes.csv file\n",
    "    for quote in scraped:\n",
    "        writer.writerow(quote) #writing the quotes one at a time with the writerow function\n",
    "        #the parameter that writerow accepts is a list and then it writes that to the CSV as a row."
   ]
  }
 ],
 "metadata": {
  "kernelspec": {
   "display_name": "Python 3",
   "language": "python",
   "name": "python3"
  },
  "language_info": {
   "codemirror_mode": {
    "name": "ipython",
    "version": 3
   },
   "file_extension": ".py",
   "mimetype": "text/x-python",
   "name": "python",
   "nbconvert_exporter": "python",
   "pygments_lexer": "ipython3",
   "version": "3.6.7"
  }
 },
 "nbformat": 4,
 "nbformat_minor": 2
}
