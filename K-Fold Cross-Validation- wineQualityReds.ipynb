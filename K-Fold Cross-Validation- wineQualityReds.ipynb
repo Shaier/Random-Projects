{
 "cells": [
  {
   "cell_type": "code",
   "execution_count": 1,
   "metadata": {},
   "outputs": [],
   "source": [
    "#K-Fold Cross-Validation - Divide the data into K subgroups where one of them is used for training the model and the remaining k-1 are training. Then repeat that for each of the k subgroups until you've trained the model on every subgroup.\n",
    "\n",
    "#Importing libraries\n",
    "import pandas as pd\n",
    "import numpy as np"
   ]
  },
  {
   "cell_type": "code",
   "execution_count": 2,
   "metadata": {},
   "outputs": [],
   "source": [
    "#Reading the data\n",
    "path='C:\\\\Users\\\\sagi\\\\Desktop\\\\Learning\\ML\\\\Datasets\\\\wineQualityReds.csv'\n",
    "dataset=pd.read_csv(path) #The dataset was semi-colon separated so we have to pass the ';' attribute to the\n",
    "# \"sep\" parameter so pandas is able to properly parse the file."
   ]
  },
  {
   "cell_type": "code",
   "execution_count": 3,
   "metadata": {},
   "outputs": [
    {
     "data": {
      "text/plain": [
       "(1599, 13)"
      ]
     },
     "execution_count": 3,
     "metadata": {},
     "output_type": "execute_result"
    }
   ],
   "source": [
    "#Data analysis:\n",
    "dataset.shape"
   ]
  },
  {
   "cell_type": "code",
   "execution_count": 4,
   "metadata": {},
   "outputs": [],
   "source": [
    "#Preprocess the data\n",
    "#Divide into features and labels\n",
    "X = dataset.iloc[:, 0:11].values\n",
    "y = dataset.iloc[:, 11].values\n",
    "\n",
    "#Remember that we're doing cross validation- we will use all of the data to be in the training set- so we dont need to split it\n",
    "from sklearn.model_selection import train_test_split\n",
    "X_train, X_test, y_train, y_test = train_test_split(X, y, test_size=0, random_state=0)   #set the value for the test_size parameter to 0 to make all data be in the training"
   ]
  },
  {
   "cell_type": "code",
   "execution_count": 5,
   "metadata": {},
   "outputs": [],
   "source": [
    "#Scaling the data\n",
    "from sklearn.preprocessing import StandardScaler\n",
    "sc = StandardScaler()\n",
    "X_train = sc.fit_transform(X_train)"
   ]
  },
  {
   "cell_type": "code",
   "execution_count": 6,
   "metadata": {},
   "outputs": [],
   "source": [
    "#Training\n",
    "from sklearn.ensemble import RandomForestRegressor\n",
    "classifier=RandomForestRegressor(n_estimators=200)"
   ]
  },
  {
   "cell_type": "code",
   "execution_count": 7,
   "metadata": {},
   "outputs": [
    {
     "name": "stdout",
     "output_type": "stream",
     "text": [
      "[0.81665296 0.7726066  0.78393753 0.73175726 0.783305  ]\n",
      "0.7776518730710615\n",
      "0.027292205063202676\n"
     ]
    }
   ],
   "source": [
    "#Cross Val\n",
    "from sklearn.model_selection import cross_val_score\n",
    "all_accuracies = cross_val_score(estimator=classifier, X=X_train, y=y_train, cv=5)\n",
    "#cross_val_score takes 4 parameters: estimator is the algorithm, second and third are features and labels, and the number of folds is passed to the cv\n",
    "print(all_accuracies)\n",
    "\n",
    "#Output:\n",
    "#[0.81681873 0.76539769 0.77995326 0.73214267 0.78790996]\n",
    "print(all_accuracies.mean()) #avg all accuracies\n",
    "\n",
    "print(all_accuracies.std())\n",
    "#Output:\n",
    "#0.027= 2.7% which is good. low variance means the model will perform more or less similar on all test sets."
   ]
  }
 ],
 "metadata": {
  "kernelspec": {
   "display_name": "Python 3",
   "language": "python",
   "name": "python3"
  },
  "language_info": {
   "codemirror_mode": {
    "name": "ipython",
    "version": 3
   },
   "file_extension": ".py",
   "mimetype": "text/x-python",
   "name": "python",
   "nbconvert_exporter": "python",
   "pygments_lexer": "ipython3",
   "version": "3.6.7"
  }
 },
 "nbformat": 4,
 "nbformat_minor": 2
}
