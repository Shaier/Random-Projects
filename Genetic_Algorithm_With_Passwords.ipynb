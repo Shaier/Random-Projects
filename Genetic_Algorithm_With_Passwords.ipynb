{
 "cells": [
  {
   "cell_type": "code",
   "execution_count": null,
   "metadata": {},
   "outputs": [],
   "source": [
    "'''\n",
    "1. Create the population\n",
    "\n",
    "2. Determine fitness\n",
    "\n",
    "3. Select the mating pool\n",
    "\n",
    "4. Breed\n",
    "\n",
    "5. Mutate\n",
    "\n",
    "6. Repeat'''"
   ]
  },
  {
   "cell_type": "code",
   "execution_count": null,
   "metadata": {},
   "outputs": [],
   "source": [
    "'''\n",
    "1.Initialization - Create an initial population. This population is usually randomly generated and can be any desired size,\n",
    "from only a few individuals to thousands.\n",
    "2.Evaluation - Each member of the population is then evaluated and we calculate a 'fitness' for that individual. \n",
    "The fitness value is calculated by how well it fits with our desired requirements. These requirements could be simple, \n",
    "'faster algorithms are better', or more complex, 'stronger materials are better but they shouldn't be too heavy'.\n",
    "3.Selection - We want to be constantly improving our populations overall fitness. Selection helps us to do this by \n",
    "discarding the bad designs and only keeping the best individuals in the population.  There are a few different selection \n",
    "methods but the basic idea is the same, make it more likely that fitter individuals will be selected for our next generation.\n",
    "4.Crossover - During crossover we create new individuals by combining aspects of our selected individuals. We can think of \n",
    "this as mimicking how sex works in nature. The hope is that by combining certain traits from two or more individuals we \n",
    "will create an even 'fitter' offspring which will inherit the best traits from each of it's parents.\n",
    "5.Mutation - We need to add a little bit randomness into our populations' genetics otherwise every combination of solutions \n",
    "we can create would be in our initial population. Mutation typically works by making very small changes at random to an \n",
    "individuals genome.\n",
    "6.And repeat! - Now we have our next generation we can start again from step two until we reach a termination condition.\n",
    "\n",
    "'''"
   ]
  },
  {
   "cell_type": "code",
   "execution_count": null,
   "metadata": {},
   "outputs": [],
   "source": [
    "'''\n",
    "pop= list of passwords\n",
    "fit func= difference between char\n",
    "selection= choose only 20% of the best passwords\n",
    "breed= select a subset of the first parent string and then fill the remainder of the route with the genes from the second parent\n",
    "mutate= select 1% of pop. to have mutation\n",
    "repeat.\n",
    "'''\n"
   ]
  },
  {
   "cell_type": "code",
   "execution_count": 1,
   "metadata": {},
   "outputs": [],
   "source": [
    "true_pass=[1,2,3,4,0,5,2,9,7,3,5,6]"
   ]
  },
  {
   "cell_type": "code",
   "execution_count": 2,
   "metadata": {},
   "outputs": [],
   "source": [
    "#Defining an initial population\n",
    "import random\n",
    "from operator import itemgetter\n",
    "import math\n",
    "from random import shuffle\n",
    "import matplotlib.pyplot as plt\n",
    "\n",
    "def pop(amount): #amount is the pop. size\n",
    "    initial_population=[] #list of passwords\n",
    "    for i in range(0,amount):\n",
    "        password=[]\n",
    "        for i in range (0,len(true_pass)): #adding 5 numbers here\n",
    "            password.append(random.randint(0,9)) #each of value 0-9 \n",
    "        initial_population.append(password)  \n",
    "    return initial_population"
   ]
  },
  {
   "cell_type": "code",
   "execution_count": 3,
   "metadata": {},
   "outputs": [],
   "source": [
    "#Define fittness function\n",
    "\n",
    "#I'll sum the differences between each char. of an individual and the char of the true password\n",
    "#Each password will get a score based on the sum (lowest score is better- meaning there's less difference between chars.)\n",
    "\n",
    "def fit(password): #password is a list of characters\n",
    "    password_sum=0\n",
    "    index=0\n",
    "    for x in password:\n",
    "        password_sum+=abs(true_pass[index]-x)\n",
    "        index+=1    \n",
    "    return password_sum #return the score for each password"
   ]
  },
  {
   "cell_type": "code",
   "execution_count": 60,
   "metadata": {},
   "outputs": [],
   "source": [
    "#Define a list to hold the password and its score- we will choose only the best ones with a max function\n",
    "def selection (population):\n",
    "    pass_and_score=[] \n",
    "    for every_password in population:\n",
    "        pass_and_score.append([every_password,fit(every_password)])\n",
    "\n",
    "    #pass_and_score #[password, score]\n",
    "    \n",
    "    #organize them by the score (lowest score first to indicate closest password)\n",
    "    organized_pass_and_score= sorted(pass_and_score, key=lambda x: int(x[1]))\n",
    "    \n",
    "    #Take only the top % of the passwords\n",
    "    best_passwords=organized_pass_and_score[:math.ceil(0.1*(len(organized_pass_and_score)))] #keep 10% here (dont forget to change the children later to keep the original size)\n",
    "    only_best_passwords=[]\n",
    "    for i in range (len(best_passwords)):\n",
    "        only_best_passwords.append(best_passwords[i][0])\n",
    "    return only_best_passwords"
   ]
  },
  {
   "cell_type": "code",
   "execution_count": 61,
   "metadata": {},
   "outputs": [],
   "source": [
    "#Breed/ crossover - creating the next generation passwords\n",
    "def breed(parent1, parent2):\n",
    "    child = []\n",
    "\n",
    "    for i in range (len(parent1)): #fill random nums in child\n",
    "        child.append(random.randint(0,9))\n",
    "     #   print(child)\n",
    "    index=random.randint(0,len(parent1)) #fill first part with parent 1\n",
    "    #print(index)\n",
    "    for i in range(0,index):\n",
    "        child[i]=parent1[i]\n",
    "    for j in range(index,len(parent1)): #fill second part with parent 2\n",
    "        child[j]=parent2[j]\n",
    "    return child"
   ]
  },
  {
   "cell_type": "code",
   "execution_count": 62,
   "metadata": {},
   "outputs": [],
   "source": [
    "#Create the population of children\n",
    "def breedPopulation(parents): #change num_of_parents #num of parents is len(best_passwords)\n",
    "    children=[]\n",
    "    count=0\n",
    "    while count<len(parents): #change to num_of_parents\n",
    "        for i in range (int(len(parents)*8)): #each pair of parents have 8 kids to keep to original population size of 100 (20 parents + 80 kids)\n",
    "            children.append(breed(parents[count],parents[count+1]))\n",
    "        count+=2\n",
    "    return children"
   ]
  },
  {
   "cell_type": "code",
   "execution_count": 63,
   "metadata": {},
   "outputs": [],
   "source": [
    "#Mutate- Choose a random number of children. For each child choose a random char. to change.\n",
    "def mutate(children,percentage): #enter the % of mutations\n",
    "    num_of_mutated_children=math.ceil((percentage/100)*len(children))\n",
    "    shuffle(children)\n",
    "\n",
    "    for i in range(num_of_mutated_children):\n",
    "        children[i][random.randint(0,len(children[0])-1)]=random.randint(0,9)\n",
    "    return children"
   ]
  },
  {
   "cell_type": "code",
   "execution_count": 64,
   "metadata": {},
   "outputs": [],
   "source": [
    "#Repeat\n",
    "def nextGeneration(currentGen, mutationRate):\n",
    "    selectionResults = selection(currentGen) #select the best from the current gen.\n",
    "    children=breedPopulation(selection(selectionResults)) #from the best create children\n",
    "    mutated_children=mutate(children,mutationRate) #mutate the children\n",
    "    nextGeneration = mutated_children+selectionResults #nextGen is the kids plus their parents\n",
    "    return nextGeneration #get the next population with size 100"
   ]
  },
  {
   "cell_type": "code",
   "execution_count": 65,
   "metadata": {},
   "outputs": [],
   "source": [
    "#Evolution in motion\n",
    "def geneticAlgorithm(popSize, mutationRate, generations): \n",
    "    print('True password was: ' +str(true_pass))\n",
    "    initial_population = pop(popSize)\n",
    "    progress=[]\n",
    "    for i in range(0, generations):\n",
    "        new_population = nextGeneration(initial_population, mutationRate)\n",
    "        top_pass=selection(new_population)[0]\n",
    "        score=fit(selection(new_population)[0])\n",
    "        progress.append(score)\n",
    "        #print(\"Top password currently is: \" + str(top_pass)+' and its score: '+ str(score))\n",
    "        if score==0:\n",
    "            print('Gotcha the current password in  ' +str(i)+' iterations, '+ 'and it is: ' +str(top_pass))\n",
    "            break \n",
    "    plt.plot(progress)\n",
    "    plt.ylabel('Distance from true pass')\n",
    "    plt.xlabel('Generation')\n",
    "    plt.show()\n",
    "\n",
    "    top_pass=selection(new_population)[0]\n",
    "    return ('Best I coult do is: ' +str(top_pass))"
   ]
  },
  {
   "cell_type": "code",
   "execution_count": 69,
   "metadata": {},
   "outputs": [
    {
     "name": "stdout",
     "output_type": "stream",
     "text": [
      "True password was: [1, 2, 3, 4, 0, 5, 2, 9, 7, 3, 5, 6]\n"
     ]
    },
    {
     "data": {
      "image/png": "[encoded data removed]",
      "text/plain": [
       "<Figure size 432x288 with 1 Axes>"
      ]
     },
     "metadata": {
      "needs_background": "light"
     },
     "output_type": "display_data"
    },
    {
     "data": {
      "text/plain": [
       "'Best I coult do is: [5, 4, 5, 4, 0, 5, 3, 9, 5, 3, 5, 7]'"
      ]
     },
     "execution_count": 69,
     "metadata": {},
     "output_type": "execute_result"
    }
   ],
   "source": [
    "#Running the genetic algorithm\n",
    "geneticAlgorithm(1000,10,400)"
   ]
  },
  {
   "cell_type": "code",
   "execution_count": null,
   "metadata": {},
   "outputs": [],
   "source": []
  }
 ],
 "metadata": {
  "kernelspec": {
   "display_name": "Python 3",
   "language": "python",
   "name": "python3"
  },
  "language_info": {
   "codemirror_mode": {
    "name": "ipython",
    "version": 3
   },
   "file_extension": ".py",
   "mimetype": "text/x-python",
   "name": "python",
   "nbconvert_exporter": "python",
   "pygments_lexer": "ipython3",
   "version": "3.6.7"
  }
 },
 "nbformat": 4,
 "nbformat_minor": 2
}
